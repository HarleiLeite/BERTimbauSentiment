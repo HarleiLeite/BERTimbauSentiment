{
  "nbformat": 4,
  "nbformat_minor": 0,
  "metadata": {
    "colab": {
      "provenance": [],
      "authorship_tag": "ABX9TyN9JW6TrQs1QYmEDbmzh8GG",
      "include_colab_link": true
    },
    "kernelspec": {
      "name": "python3",
      "display_name": "Python 3"
    },
    "language_info": {
      "name": "python"
    }
  },
  "cells": [
    {
      "cell_type": "markdown",
      "metadata": {
        "id": "view-in-github",
        "colab_type": "text"
      },
      "source": [
        "<a href=\"https://colab.research.google.com/github/HarleiLeite/BERTimbauSentiment/blob/main/classify_bertimbau_portuguese.ipynb\" target=\"_parent\"><img src=\"https://colab.research.google.com/assets/colab-badge.svg\" alt=\"Open In Colab\"/></a>"
      ]
    },
    {
      "cell_type": "markdown",
      "source": [
        "# BERTimbau para análise de sentimentos em português\n",
        "\n",
        "Este código foi adaptado de https://github.com/Luzo0/GoEmotions_portuguese?tab=readme-ov-file"
      ],
      "metadata": {
        "id": "NcL-qafg9q4a"
      }
    },
    {
      "cell_type": "code",
      "execution_count": 11,
      "metadata": {
        "id": "674qSNZW6mwM"
      },
      "outputs": [],
      "source": [
        "from transformers import BertTokenizer, BertForSequenceClassification, pipeline\n",
        "from pprint import pprint"
      ]
    },
    {
      "cell_type": "markdown",
      "source": [
        "## Carregar modelo BERTimbau pré-treinado\n",
        "\n",
        "O modelo BERTimbau Base foi treinado usando o dataset GoEmotions, traduzido para o português"
      ],
      "metadata": {
        "id": "YmUTo4MJ-AtK"
      }
    },
    {
      "cell_type": "code",
      "source": [
        "#Folder path containing the fine-tuned model files\n",
        "model_path = './'\n",
        "\n",
        "model = BertForSequenceClassification.from_pretrained(model_path)\n",
        "tokenizer = BertTokenizer.from_pretrained(model_path)\n",
        "\n",
        "classifier = pipeline('text-classification', model=model, tokenizer=tokenizer, return_all_scores=True)"
      ],
      "metadata": {
        "id": "Ya_aby6U97I4"
      },
      "execution_count": 12,
      "outputs": []
    },
    {
      "cell_type": "markdown",
      "source": [
        "## Testar o modelo com entradas do usuário"
      ],
      "metadata": {
        "id": "Dba8JC1Y-a8S"
      }
    },
    {
      "cell_type": "code",
      "source": [
        "threshold = 0.1\n",
        "\n",
        "comment = input(\"Digite o comentário: \")\n",
        "\n",
        "while comment != \"FIM\":\n",
        "    output = classifier(comment)\n",
        "\n",
        "    predictions = []\n",
        "\n",
        "    for prediction in output:\n",
        "\t    predictions.append(list(x for x in prediction if x['score']>= threshold))\n",
        "\n",
        "    pprint(predictions)\n",
        "    comment = input(\"Digite o comentário: \")"
      ],
      "metadata": {
        "colab": {
          "base_uri": "https://localhost:8080/"
        },
        "id": "vsWW8Rao9uxY",
        "outputId": "d514abf5-eeb8-4c6b-d621-a90a06b29bcc"
      },
      "execution_count": 13,
      "outputs": [
        {
          "name": "stdout",
          "output_type": "stream",
          "text": [
            "Digite o comentário: Eu gostei da escola\n",
            "[[{'label': 'alegria', 'score': 0.24171943962574005},\n",
            "  {'label': 'amor', 'score': 0.5975350141525269}]]\n",
            "Digite o comentário: FIM\n"
          ]
        }
      ]
    }
  ]
}